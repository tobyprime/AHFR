{
 "cells": [
  {
   "cell_type": "code",
   "execution_count": 7,
   "metadata": {
    "collapsed": true
   },
   "outputs": [
    {
     "data": {
      "text/plain": "{'person': [{'name': 'toby', 'age': 100}, {'name': 'aaaa', 'age': 114514, 'sex': '哼哼哼啊啊啊啊啊'}]}"
     },
     "execution_count": 7,
     "metadata": {},
     "output_type": "execute_result"
    }
   ],
   "source": [
    "from parser import *\n",
    "\n",
    "\n",
    "class PersonTemplate(Template):\n",
    "    name: str\n",
    "    age: int\n",
    "    sex: Optional[str]  # 如果数据中没有这一相则会被忽略\n",
    "    _t: ...  # 以 _ 开头的私有方法会被忽略\n",
    "\n",
    "\n",
    "class DataTemplate(Template):\n",
    "    person: list[PersonTemplate]  # 数据中的 person 是个 PersonTemplate 的列表\n",
    "\n",
    "\n",
    "data = JsonParser(DataTemplate, \"\"\"\n",
    "    {\n",
    "        \"person\":[\n",
    "            {\n",
    "                \"name\":\"toby\",\n",
    "                \"age\":\"100\"\n",
    "            },\n",
    "            {\n",
    "                \"name\":\"aaaa\",\n",
    "                \"age\":\"114514\",\n",
    "                \"sex\":\"哼哼哼啊啊啊啊啊\"\n",
    "            }\n",
    "        ]\n",
    "    }\n",
    "    \"\"\")\n",
    "\n",
    "data"
   ]
  },
  {
   "cell_type": "code",
   "execution_count": 8,
   "outputs": [
    {
     "data": {
      "text/plain": "{'person': [{'name': 'toby', 'age': '100'},\n  {'name': 'aaaa', 'age': '114514', 'sex': '哼哼哼啊啊啊啊啊'}]}"
     },
     "execution_count": 8,
     "metadata": {},
     "output_type": "execute_result"
    }
   ],
   "source": [
    "data = JsonParser({\n",
    "    \"person\":PersonTemplate\n",
    "}, \"\"\"\n",
    "    {\n",
    "        \"person\":[\n",
    "            {\n",
    "                \"name\":\"toby\",\n",
    "                \"age\":\"100\"\n",
    "            },\n",
    "            {\n",
    "                \"name\":\"aaaa\",\n",
    "                \"age\":\"114514\",\n",
    "                \"sex\":\"哼哼哼啊啊啊啊啊\"\n",
    "            }\n",
    "        ]\n",
    "    }\n",
    "    \"\"\")  # 使用 dict 代替 类\n",
    "\n",
    "data"
   ],
   "metadata": {
    "collapsed": false
   }
  },
  {
   "cell_type": "code",
   "execution_count": 11,
   "outputs": [
    {
     "data": {
      "text/plain": "{'attr': {}, 'value': {'filename': {'attr': {}, 'value': '010001.jpg'}, 'object': [{'attr': {}, 'value': {'name': {'attr': {}, 'value': 'person'}, 'bndbox': {'attr': {}, 'value': {'xmin': {'attr': {}, 'value': 287}, 'ymin': {'attr': {}, 'value': 428}, 'xmax': {'attr': {}, 'value': 351}, 'ymax': {'attr': {}, 'value': 662}}}}}, {'attr': {}, 'value': {'name': {'attr': {}, 'value': 'person'}, 'bndbox': {'attr': {}, 'value': {'xmin': {'attr': {}, 'value': 351}, 'ymin': {'attr': {}, 'value': 391}, 'xmax': {'attr': {}, 'value': 424}, 'ymax': {'attr': {}, 'value': 642}}}}}, {'attr': {}, 'value': {'name': {'attr': {}, 'value': 'person'}, 'bndbox': {'attr': {}, 'value': {'xmin': {'attr': {}, 'value': 466}, 'ymin': {'attr': {}, 'value': 367}, 'xmax': {'attr': {}, 'value': 550}, 'ymax': {'attr': {}, 'value': 614}}}}}, {'attr': {}, 'value': {'name': {'attr': {}, 'value': 'person'}, 'bndbox': {'attr': {}, 'value': {'xmin': {'attr': {}, 'value': 700}, 'ymin': {'attr': {}, 'value': 354}, 'xmax': {'attr': {}, 'value': 761}, 'ymax': {'attr': {}, 'value': 585}}}}}, {'attr': {}, 'value': {'name': {'attr': {}, 'value': 'person'}, 'bndbox': {'attr': {}, 'value': {'xmin': {'attr': {}, 'value': 704}, 'ymin': {'attr': {}, 'value': 517}, 'xmax': {'attr': {}, 'value': 806}, 'ymax': {'attr': {}, 'value': 794}}}}}, {'attr': {}, 'value': {'name': {'attr': {}, 'value': 'person'}, 'bndbox': {'attr': {}, 'value': {'xmin': {'attr': {}, 'value': 1124}, 'ymin': {'attr': {}, 'value': 22}, 'xmax': {'attr': {}, 'value': 1196}, 'ymax': {'attr': {}, 'value': 245}}}}}]}}"
     },
     "execution_count": 11,
     "metadata": {},
     "output_type": "execute_result"
    }
   ],
   "source": [
    "class Bndbox(Template):\n",
    "    xmin: XmlElement[..., int]  # 对于 Xml 数据需要 加 XmlElement[]，因为其会先被转为 {attr:属性,value:值} 的字典，其中...表示attr的模板，而int表示value的模板\n",
    "    ymin: XmlElement[..., int]\n",
    "    xmax: XmlElement[..., int]\n",
    "    ymax: XmlElement[..., int]\n",
    "\n",
    "\n",
    "class ObjectTemplate(Template):\n",
    "    name: XmlElement[..., str]\n",
    "    bndbox: XmlElement[..., Bndbox]\n",
    "\n",
    "\n",
    "class AnnotationTemplate(Template):\n",
    "    filename:XmlElement[..., str]\n",
    "    object: List[XmlElement[..., ObjectTemplate]]\n",
    "\n",
    "xml = ElementTree.parse(\n",
    "    \"/run/media/toby/data_exten0/Datasets/find-person-in-the-dark/train/train/train_annotations/010001.xml\")\n",
    "result = XmlParser(XmlElement[...,AnnotationTemplate], xml)\n",
    "result"
   ],
   "metadata": {
    "collapsed": false
   }
  },
  {
   "cell_type": "code",
   "execution_count": 10,
   "outputs": [
    {
     "data": {
      "text/plain": "{'attr': {}, 'value': {'name': {'attr': {}, 'value': 'person'}, 'bndbox': {'attr': {}, 'value': {'xmin': {'attr': {}, 'value': 287}, 'ymin': {'attr': {}, 'value': 428}, 'xmax': {'attr': {}, 'value': 351}, 'ymax': {'attr': {}, 'value': 662}}}}}"
     },
     "execution_count": 10,
     "metadata": {},
     "output_type": "execute_result"
    }
   ],
   "source": [
    "result.object[0]  # XmlElement 访问属性时会去搜索.value中是否有object这个属性，若有则返回value.object，再在 .attr中搜索object."
   ],
   "metadata": {
    "collapsed": false
   }
  }
 ],
 "metadata": {
  "kernelspec": {
   "display_name": "Python 3",
   "language": "python",
   "name": "python3"
  },
  "language_info": {
   "codemirror_mode": {
    "name": "ipython",
    "version": 2
   },
   "file_extension": ".py",
   "mimetype": "text/x-python",
   "name": "python",
   "nbconvert_exporter": "python",
   "pygments_lexer": "ipython2",
   "version": "2.7.6"
  }
 },
 "nbformat": 4,
 "nbformat_minor": 0
}
