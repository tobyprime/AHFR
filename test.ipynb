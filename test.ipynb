{
 "cells": [
  {
   "cell_type": "code",
   "execution_count": 1,
   "metadata": {
    "collapsed": true
   },
   "outputs": [
    {
     "data": {
      "text/plain": "{'person': [{'name': 'toby', 'age': 100, 'sex': None}, {'name': 'aaaa', 'age': 114514, 'sex': '哼哼哼啊啊啊啊啊'}]}"
     },
     "execution_count": 1,
     "metadata": {},
     "output_type": "execute_result"
    }
   ],
   "source": [
    "from parser import *\n",
    "\n",
    "\n",
    "class PersonTemplate(Template):\n",
    "    name: str\n",
    "    age: int\n",
    "    sex: Optional[str]\n",
    "    _t: ...\n",
    "\n",
    "\n",
    "class DataTemplate(Template):\n",
    "    person: list[PersonTemplate]\n",
    "\n",
    "\n",
    "data = JsonParser(DataTemplate, \"\"\"\n",
    "    {\n",
    "        \"person\":[\n",
    "            {\n",
    "                \"name\":\"toby\",\n",
    "                \"age\":\"100\"\n",
    "            },\n",
    "            {\n",
    "                \"name\":\"aaaa\",\n",
    "                \"age\":\"114514\",\n",
    "                \"sex\":\"哼哼哼啊啊啊啊啊\"\n",
    "            }\n",
    "        ]\n",
    "    }\n",
    "    \"\"\")\n",
    "\n",
    "data"
   ]
  },
  {
   "cell_type": "code",
   "execution_count": 2,
   "outputs": [
    {
     "data": {
      "text/plain": "{'attr': {},\n 'value': {'object': [{'attr': {}, 'value': {'name': {'attr': {}, 'value': 'person'}, 'bndbox': {'attr': {}, 'value': {'xmin': {'attr': {}, 'value': 287}, 'ymin': {'attr': {}, 'value': 428}, 'xmax': {'attr': {}, 'value': 351}, 'ymax': {'attr': {}, 'value': 662}}}}}, {'attr': {}, 'value': {'name': {'attr': {}, 'value': 'person'}, 'bndbox': {'attr': {}, 'value': {'xmin': {'attr': {}, 'value': 351}, 'ymin': {'attr': {}, 'value': 391}, 'xmax': {'attr': {}, 'value': 424}, 'ymax': {'attr': {}, 'value': 642}}}}}, {'attr': {}, 'value': {'name': {'attr': {}, 'value': 'person'}, 'bndbox': {'attr': {}, 'value': {'xmin': {'attr': {}, 'value': 466}, 'ymin': {'attr': {}, 'value': 367}, 'xmax': {'attr': {}, 'value': 550}, 'ymax': {'attr': {}, 'value': 614}}}}}, {'attr': {}, 'value': {'name': {'attr': {}, 'value': 'person'}, 'bndbox': {'attr': {}, 'value': {'xmin': {'attr': {}, 'value': 700}, 'ymin': {'attr': {}, 'value': 354}, 'xmax': {'attr': {}, 'value': 761}, 'ymax': {'attr': {}, 'value': 585}}}}}, {'attr': {}, 'value': {'name': {'attr': {}, 'value': 'person'}, 'bndbox': {'attr': {}, 'value': {'xmin': {'attr': {}, 'value': 704}, 'ymin': {'attr': {}, 'value': 517}, 'xmax': {'attr': {}, 'value': 806}, 'ymax': {'attr': {}, 'value': 794}}}}}, {'attr': {}, 'value': {'name': {'attr': {}, 'value': 'person'}, 'bndbox': {'attr': {}, 'value': {'xmin': {'attr': {}, 'value': 1124}, 'ymin': {'attr': {}, 'value': 22}, 'xmax': {'attr': {}, 'value': 1196}, 'ymax': {'attr': {}, 'value': 245}}}}}]}}"
     },
     "execution_count": 2,
     "metadata": {},
     "output_type": "execute_result"
    }
   ],
   "source": [
    "class Bndbox(Template):\n",
    "    xmin: XmlElement[..., int]\n",
    "    ymin: XmlElement[..., int]\n",
    "    xmax: XmlElement[..., int]\n",
    "    ymax: XmlElement[..., int]\n",
    "\n",
    "\n",
    "class ObjectTemplate(Template):\n",
    "    name: XmlElement[..., str]\n",
    "    bndbox: XmlElement[..., Bndbox]\n",
    "\n",
    "\n",
    "class AnnotationTemplate(Template):\n",
    "    object: List[XmlElement[..., ObjectTemplate]]\n",
    "\n",
    "xml = ElementTree.parse(\n",
    "    \"/run/media/toby/data_exten0/Datasets/find-person-in-the-dark/train/train/train_annotations/010001.xml\")\n",
    "result = XmlParser(XmlElement[...,AnnotationTemplate], xml)\n",
    "vars(result)"
   ],
   "metadata": {
    "collapsed": false
   }
  },
  {
   "cell_type": "code",
   "execution_count": 2,
   "outputs": [],
   "source": [],
   "metadata": {
    "collapsed": false
   }
  }
 ],
 "metadata": {
  "kernelspec": {
   "display_name": "Python 3",
   "language": "python",
   "name": "python3"
  },
  "language_info": {
   "codemirror_mode": {
    "name": "ipython",
    "version": 2
   },
   "file_extension": ".py",
   "mimetype": "text/x-python",
   "name": "python",
   "nbconvert_exporter": "python",
   "pygments_lexer": "ipython2",
   "version": "2.7.6"
  }
 },
 "nbformat": 4,
 "nbformat_minor": 0
}
